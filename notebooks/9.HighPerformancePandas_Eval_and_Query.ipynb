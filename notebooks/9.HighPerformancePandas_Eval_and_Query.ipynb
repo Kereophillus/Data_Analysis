{
 "cells": [
  {
   "cell_type": "markdown",
   "metadata": {},
   "source": [
    "### <center>High Performance with Pandas: `Eval` and `Query`</center>"
   ]
  },
  {
   "cell_type": "code",
   "execution_count": null,
   "metadata": {},
   "outputs": [],
   "source": [
    "import numpy as numpy\n",
    "import pandas as pd"
   ]
  },
  {
   "cell_type": "markdown",
   "metadata": {},
   "source": [
    "> ### Why `EVAL` and `QUERY`?"
   ]
  },
  {
   "cell_type": "markdown",
   "metadata": {},
   "source": [
    "<strong> Numpy and Pandas are useful for fast vectorized operations(e.g. `x + y`).\n",
    "However, in compound expressions every intermediate step is explicitly allocated in memory. If large, this can lead to significant memory and computational over‐head. \n",
    "The `NumExpr` library gives you the ability to compute compound expression element by element, without the need to allocate full intermediate arrays. </strong>"
   ]
  },
  {
   "cell_type": "markdown",
   "metadata": {},
   "source": [
    "> `eval` and `query ` are essentially Pandas-specfic wrappers of NumExpr functionality\n",
    "> `eval` and `query ` are conceptually similar"
   ]
  },
  {
   "cell_type": "code",
   "execution_count": null,
   "metadata": {},
   "outputs": [],
   "source": []
  }
 ],
 "metadata": {
  "kernelspec": {
   "display_name": "DataAnalysisEnv",
   "language": "python",
   "name": "dataanalysisenv"
  },
  "language_info": {
   "name": "python",
   "version": "3.12.3"
  }
 },
 "nbformat": 4,
 "nbformat_minor": 2
}
